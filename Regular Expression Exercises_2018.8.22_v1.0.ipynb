{
 "cells": [
  {
   "cell_type": "code",
   "execution_count": 1,
   "metadata": {},
   "outputs": [],
   "source": [
    "import os\n",
    "import re\n",
    "os.chdir(\"/Users/a1/Desktop/正则化/reg_practices\")\n",
    "from regular_expression_visualization.visualize_reg import search_pattern"
   ]
  },
  {
   "cell_type": "markdown",
   "metadata": {},
   "source": [
    "### 0) Python regular expression 官方说明\n",
    "1)Regular expression operations\n",
    "https://docs.python.org/3/library/re.html\n",
    "\n",
    "2)Regular Expression HOWTO\n",
    "https://docs.python.org/3/howto/regex.html\n",
    "\n",
    "3)Python正则表达式指南 (转自:AstralWind)\n",
    "https://blog.csdn.net/VonSdite/article/details/76572999\n",
    "\n",
    "4) 在线的正则化的工具的学习\n",
    "https://regex101.com\n"
   ]
  },
  {
   "cell_type": "markdown",
   "metadata": {},
   "source": [
    "### 1) 正则表达式 - 元字符"
   ]
  },
  {
   "cell_type": "code",
   "execution_count": null,
   "metadata": {},
   "outputs": [],
   "source": [
    ".            匹配除了换行符“\\n”以外的任意一个字符\n",
    "^            匹配字符串的开头\n",
    "$            匹配字符串的结尾\n",
    "*，+，？      ‘*’表示匹配前一个字符重复0次~无限次，‘+’表示匹配前一个字符重复1次~无限次，‘?’表示匹配前一个字符重复0次~1次\n",
    "*?, +?, ??   前面都加上了'?' -> 非贪婪匹配 ，上面一行是指贪婪匹配\n",
    "\\            对特殊字符进行转义\n",
    "|            或的意思\n",
    "{n}          匹配前一个字符m次         \n",
    "{n,}         匹配前一个字符最少出现n次\n",
    "{n,m}        匹配前一个字符n次~m次,闭区间   -> 注意m前面不要出现空格\n",
    "[...]        匹配一个特殊的字符集合,所有特殊字符均失去特殊意义，除了：^, -, ], \\\n",
    "[^...]       匹配除了集合中的任意一个字符\n",
    "[a-z]        匹配区间内的任意一个a~z字符  其中\"-\"代表区间范围\n",
    "(...)        被括起来的表达式作为一个分组，re.findall在有组的情况下只显示组内容\n",
    "(?#...)      A comment; the contents of the parentheses are simply ignored. \n",
    "(?=...)      Matches if ... matches next, but doesn’t consume any of the string. This is called a lookahead assertion.  For example, Isaac (?=Asimov) will match 'Isaac ' only if it’s followed by 'Asimov'.\n",
    "(?!=...)     Matches if ... doesn’t match next. This is a negative lookahead assertion. For example, Isaac (?!Asimov) will match 'Isaac ' only if it’s not followed by 'Asimov'.\n",
    "(?<=...)     Matches if the current position in the string is preceded by a match for ... that ends at the current position. This is called a positive lookbehind assertion. (?<=abc)def will find a match in 'abcdef', since the lookbehind will back up 3 characters and check if the contained pattern matches. The contained pattern must only match strings of some fixed length, meaning that abc or a|b are allowed, but a* and a{3,4} are not.\n"
   ]
  },
  {
   "cell_type": "markdown",
   "metadata": {},
   "source": [
    "### 2) 正则表达式 - 特殊序列"
   ]
  },
  {
   "cell_type": "raw",
   "metadata": {},
   "source": [
    "\\A            只在字符串开头进行匹配。\n",
    "\\b            匹配位于开头或者结尾的空字符串\n",
    "\\B            匹配不位于开头或者结尾的空字符串\n",
    "\\d            匹配任意十进制数，相当于[0-9]\n",
    "\\D            匹配任意非数字字符，相当于[^0-9]\n",
    "\\s            匹配任意空白字符，相当于[\\t\\n\\r\\f\\v]\n",
    "\\S            匹配任意非空白字符，相当于 [^ \\t\\n\\r\\f\\v]\n",
    "\\w            匹配任意数字和字母（含下划线），相当于 [a-zA-Z0-9_]\n",
    "\\W            匹配任意非数字和字母的字符，相当于 [^a-zA-Z0-9_]\n",
    "\\z            只在字符串尾进行匹配"
   ]
  },
  {
   "cell_type": "markdown",
   "metadata": {},
   "source": [
    "### 3）正则表达式 - re模块(部分)"
   ]
  },
  {
   "cell_type": "code",
   "execution_count": null,
   "metadata": {},
   "outputs": [],
   "source": [
    "1) re.compile(pattern, flags=0)                 编译正则表达式模式，返回一个对象。可以把常用的正则表达式编译成正则表达式对象，方便后续调用及提高效率\n",
    "2) re.match(pattern, string[, flags=0])         总是从字符串开头匹配，并返回匹配的字符串的 match 对象 <class '_sre.SRE_Match'>。\n",
    "3) re.search(pattern, string[, flags=0])        对整个字符串进行搜索匹配，返回第一个匹配的字符串的 match 对象。\n",
    "4) re.sub(pattern,repl,string,max = 0)          用于替换匹配项\n",
    "5) re.findall(pattern, string, flags=0)         以列表的形式返回能匹配的子串"
   ]
  },
  {
   "cell_type": "code",
   "execution_count": null,
   "metadata": {},
   "outputs": [],
   "source": []
  },
  {
   "cell_type": "markdown",
   "metadata": {},
   "source": [
    "### 4) 补充知识 "
   ]
  },
  {
   "cell_type": "code",
   "execution_count": null,
   "metadata": {},
   "outputs": [],
   "source": [
    "1) match()和re.search()的区别：re.match只匹配字符串的开始，如果字符串开始不符合正则表达式，则匹配失败，函数返回None；而re.search匹配整个字符串，直到找到一个匹配。\n",
    "2) 贪婪匹配与非贪婪匹配的区别：贪婪匹配会尽可能的多匹配，python默认是贪婪模式，后面加一个?就变成非贪婪模式了\n",
    "3) r'\\n' 表示2个字符‘\\’ 和 'n'，python中用‘r’作为字符串的前缀。"
   ]
  },
  {
   "cell_type": "code",
   "execution_count": 63,
   "metadata": {},
   "outputs": [
    {
     "name": "stdout",
     "output_type": "stream",
     "text": [
      "['a23']\n"
     ]
    }
   ],
   "source": [
    "a = re.findall('a\\d+', 'a23b') #贪婪模式，默认\n",
    "print(a)"
   ]
  },
  {
   "cell_type": "code",
   "execution_count": 64,
   "metadata": {},
   "outputs": [
    {
     "name": "stdout",
     "output_type": "stream",
     "text": [
      "['a2']\n"
     ]
    }
   ],
   "source": [
    "b = re.findall('a\\d+?', 'a23b') #非贪婪模式\n",
    "print(b)"
   ]
  },
  {
   "cell_type": "code",
   "execution_count": 65,
   "metadata": {},
   "outputs": [
    {
     "name": "stdout",
     "output_type": "stream",
     "text": [
      "None\n",
      "<_sre.SRE_Match object; span=(3, 6), match='abc'>\n"
     ]
    }
   ],
   "source": [
    "match_test = re.match('abc', 'hahabckk') #match 从字符串起点开始匹配\n",
    "search_test = re.search('abc', 'hahabckk') #search 对整个字符串遍历寻找\n",
    "print(match_test)\n",
    "print(search_test)"
   ]
  },
  {
   "cell_type": "markdown",
   "metadata": {},
   "source": [
    "### 5） 我的疑问"
   ]
  },
  {
   "cell_type": "code",
   "execution_count": null,
   "metadata": {},
   "outputs": [],
   "source": [
    "1，使用re.compile 与不使用re.compile的区别\n"
   ]
  },
  {
   "cell_type": "code",
   "execution_count": 58,
   "metadata": {},
   "outputs": [
    {
     "name": "stdout",
     "output_type": "stream",
     "text": [
      "Help on function compile in module re:\n",
      "\n",
      "compile(pattern, flags=0)\n",
      "    Compile a regular expression pattern, returning a pattern object.\n",
      "\n"
     ]
    }
   ],
   "source": [
    "help(re.compile)"
   ]
  },
  {
   "cell_type": "markdown",
   "metadata": {},
   "source": [
    "### 6)  例子补充"
   ]
  },
  {
   "cell_type": "code",
   "execution_count": null,
   "metadata": {},
   "outputs": [],
   "source": []
  },
  {
   "cell_type": "code",
   "execution_count": 55,
   "metadata": {},
   "outputs": [
    {
     "name": "stdout",
     "output_type": "stream",
     "text": [
      "ok word ok words ok words\n"
     ]
    }
   ],
   "source": [
    "ret_sub = re.sub(r'(one|two|three)','ok','one word two words three words') #ok word ok words ok words\n",
    "print(ret_sub)"
   ]
  },
  {
   "cell_type": "code",
   "execution_count": 56,
   "metadata": {},
   "outputs": [
    {
     "name": "stdout",
     "output_type": "stream",
     "text": [
      "('ok word ok words ok words', 3)\n"
     ]
    }
   ],
   "source": [
    "ret_sub = re.subn(r'(one|two|three)','ok','one word two words three words') #ok word ok words ok words\n",
    "print(ret_sub)"
   ]
  },
  {
   "cell_type": "code",
   "execution_count": 46,
   "metadata": {},
   "outputs": [
    {
     "name": "stdout",
     "output_type": "stream",
     "text": [
      "<_sre.SRE_Match object; span=(0, 2), match='py'>\n"
     ]
    }
   ],
   "source": [
    "test = re.search(r'py\\B', 'pyddfdf9')\n",
    "print(test)"
   ]
  },
  {
   "cell_type": "code",
   "execution_count": 51,
   "metadata": {},
   "outputs": [
    {
     "name": "stdout",
     "output_type": "stream",
     "text": [
      "<_sre.SRE_Match object; span=(0, 5), match='sd23_'>\n"
     ]
    }
   ],
   "source": [
    "test = re.search('\\w+', 'sd23_*&#$')\n",
    "print(test)"
   ]
  },
  {
   "cell_type": "code",
   "execution_count": 52,
   "metadata": {},
   "outputs": [
    {
     "name": "stdout",
     "output_type": "stream",
     "text": [
      "<_sre.SRE_Match object; span=(5, 9), match='*&#$'>\n"
     ]
    }
   ],
   "source": [
    "test = re.search('\\W+', 'sd23_*&#$')\n",
    "print(test)"
   ]
  },
  {
   "cell_type": "code",
   "execution_count": 36,
   "metadata": {},
   "outputs": [
    {
     "name": "stdout",
     "output_type": "stream",
     "text": [
      "<_sre.SRE_Match object; span=(3, 7), match='haha'>\n"
     ]
    }
   ],
   "source": [
    "test = re.search(r'\\bhaha\\b', 'aa haha nihao')\n",
    "print(test)"
   ]
  },
  {
   "cell_type": "code",
   "execution_count": 37,
   "metadata": {},
   "outputs": [
    {
     "name": "stdout",
     "output_type": "stream",
     "text": [
      "['haha']\n"
     ]
    }
   ],
   "source": [
    "test = re.findall(r'\\bhaha\\b', 'aa haha nihao')\n",
    "print(test)"
   ]
  },
  {
   "cell_type": "code",
   "execution_count": 10,
   "metadata": {},
   "outputs": [
    {
     "name": "stdout",
     "output_type": "stream",
     "text": [
      "['12']\n"
     ]
    }
   ],
   "source": [
    "test = re.findall('bc(12)', 'abc123')\n",
    "print(test)"
   ]
  },
  {
   "cell_type": "code",
   "execution_count": 25,
   "metadata": {},
   "outputs": [
    {
     "name": "stdout",
     "output_type": "stream",
     "text": [
      "<_sre.SRE_Match object; span=(3, 7), match='123 '>\n"
     ]
    }
   ],
   "source": [
    "test = re.search('123 (?=ew)', 'abc123 ew')\n",
    "print(test)"
   ]
  },
  {
   "cell_type": "code",
   "execution_count": 23,
   "metadata": {},
   "outputs": [
    {
     "name": "stdout",
     "output_type": "stream",
     "text": [
      "None\n"
     ]
    }
   ],
   "source": [
    "test = re.match('123(?=ew)', 'abc123ew')\n",
    "print(test)"
   ]
  },
  {
   "cell_type": "code",
   "execution_count": 27,
   "metadata": {},
   "outputs": [
    {
     "name": "stdout",
     "output_type": "stream",
     "text": [
      "None\n"
     ]
    }
   ],
   "source": [
    "test = re.search('123 (?!ew)', 'abc123 ew')\n",
    "print(test)"
   ]
  },
  {
   "cell_type": "code",
   "execution_count": 30,
   "metadata": {},
   "outputs": [
    {
     "name": "stdout",
     "output_type": "stream",
     "text": [
      "<_sre.SRE_Match object; span=(3, 6), match='def'>\n"
     ]
    }
   ],
   "source": [
    "test = re.search('(?<=c)def', 'aacdef')\n",
    "print(test)"
   ]
  },
  {
   "cell_type": "code",
   "execution_count": 61,
   "metadata": {},
   "outputs": [
    {
     "name": "stdout",
     "output_type": "stream",
     "text": [
      "['wang']\n"
     ]
    }
   ],
   "source": [
    "content = 'citizen wang hah'\n",
    "pattern = re.compile(r'wan\\w', re.I)\n",
    "rr = pattern.findall(content)\n",
    "print(rr)"
   ]
  },
  {
   "cell_type": "code",
   "execution_count": null,
   "metadata": {},
   "outputs": [],
   "source": []
  }
 ],
 "metadata": {
  "kernelspec": {
   "display_name": "Python 3",
   "language": "python",
   "name": "python3"
  },
  "language_info": {
   "codemirror_mode": {
    "name": "ipython",
    "version": 3
   },
   "file_extension": ".py",
   "mimetype": "text/x-python",
   "name": "python",
   "nbconvert_exporter": "python",
   "pygments_lexer": "ipython3",
   "version": "3.6.4"
  }
 },
 "nbformat": 4,
 "nbformat_minor": 2
}
