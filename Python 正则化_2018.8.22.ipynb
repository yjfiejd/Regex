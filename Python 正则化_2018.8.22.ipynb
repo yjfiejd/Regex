{
 "cells": [
  {
   "cell_type": "code",
   "execution_count": 16,
   "metadata": {},
   "outputs": [],
   "source": [
    "import os\n",
    "import re"
   ]
  },
  {
   "cell_type": "code",
   "execution_count": 2,
   "metadata": {},
   "outputs": [],
   "source": [
    "os.chdir(\"/Users/a1/Desktop/正则化/reg_practices\")"
   ]
  },
  {
   "cell_type": "code",
   "execution_count": 3,
   "metadata": {},
   "outputs": [],
   "source": [
    "from regular_expression_visualization.visualize_reg import search_pattern"
   ]
  },
  {
   "cell_type": "markdown",
   "metadata": {},
   "source": [
    "### 1）字符匹配"
   ]
  },
  {
   "cell_type": "raw",
   "metadata": {},
   "source": [
    "1      .     匹配除了换行符“\\n”以外的任意一个字符\n",
    "2     [...]  匹配集合中的任意一个字符\n",
    "3     [^...] 匹配除了集合中的任意一个字符\n",
    "4     [a-z]  匹配区间内的任意一个字符  其中\"-\"代表区间 \n",
    "5     [^0-9] 匹配除了区间内的任意一个字符\n",
    "6     \\babc  匹配以a开头的单词                 \\Babc\\w     匹配不以a开头的单词,但后面的单词必须有abc的单词\n",
    "7     \\d     [0-9]匹配一位数字                 \\D          匹配一位非数字\n",
    "8     \\s     匹配一位空白字符                   \\S          匹配一位非空白的字符\n",
    "9     \\w     [a-z0-9A-Z]匹配一位集合内的字符,包含中文    \\W  匹配除了集合以外的字符\n",
    "10     ^     匹配字符串的开头\n",
    "11     $     匹配字符串的结尾"
   ]
  },
  {
   "cell_type": "markdown",
   "metadata": {},
   "source": [
    "### 2）次数的表达"
   ]
  },
  {
   "cell_type": "raw",
   "metadata": {},
   "source": [
    "1 *         表示0次或者多次           -> *等价于匹配长度{0,} \n",
    "2 +         表示一次或者多次,至少一次   -> +等价于匹配长度{1,}\n",
    "3 ?         表示0次或者1次            -> ?等价于匹配长度{0,1}      \n",
    "4 {n}       表示n次         \n",
    "5 {n,}      表示最少n次\n",
    "6 {n,m}     表示最少n次最多m次,闭区间   -> 注意m前面不要出现空格"
   ]
  },
  {
   "cell_type": "markdown",
   "metadata": {},
   "source": [
    "### 3）"
   ]
  },
  {
   "cell_type": "code",
   "execution_count": 21,
   "metadata": {},
   "outputs": [],
   "source": []
  },
  {
   "cell_type": "code",
   "execution_count": 114,
   "metadata": {},
   "outputs": [
    {
     "data": {
      "text/html": [
       "<table><tr><th></th><th>aa|2</th><th>ee</th><th>ea</th><th>e{2}</th><th>^abc</th><th>[^abc]</th><th>[abc]</th><th>\\Aha</th><th>\\baa</th><th>a{1,}</th><th>a{,1}</th><th>a{1,2}</th><th>a{1, 2}</th><th>ba$</th><th>ab?</th><th>a\\w</th><th>a\\W</th></tr><tr><tr><tr><tr><tr><tr><td>haee</td><td><span style='color:black;'>haee</span></td><td><span style='color:black;'>ha<span style='color:black;border: 1px solid red'>ee</span></span></td><td><span style='color:black;'>haee</span></td><td><span style='color:black;'>ha<span style='color:black;border: 1px solid red'>ee</span></span></td><td><span style='color:black;'>haee</span></td><td><span style='color:black;'><span style='color:black;border: 1px solid red'>h</span>aee</span></td><td><span style='color:black;'>h<span style='color:black;border: 1px solid red'>a</span>ee</span></td><td><span style='color:black;'><span style='color:black;border: 1px solid red'>ha</span>ee</span></td><td><span style='color:black;'>haee</span></td><td><span style='color:black;'>h<span style='color:black;border: 1px solid red'>a</span>ee</span></td><td><span style='color:black;'>haee</span></td><td><span style='color:black;'>h<span style='color:black;border: 1px solid red'>a</span>ee</span></td><td><span style='color:black;'>haee</span></td><td><span style='color:black;'>haee</span></td><td><span style='color:black;'>h<span style='color:black;border: 1px solid red'>a</span>ee</span></td><td><span style='color:black;'>h<span style='color:black;border: 1px solid red'>ae</span>e</span></td><td><span style='color:black;'>haee</span></td></tr><td>eea</td><td><span style='color:black;'>eea</span></td><td><span style='color:black;'><span style='color:black;border: 1px solid red'>ee</span>a</span></td><td><span style='color:black;'>e<span style='color:black;border: 1px solid red'>ea</span></span></td><td><span style='color:black;'><span style='color:black;border: 1px solid red'>ee</span>a</span></td><td><span style='color:black;'>eea</span></td><td><span style='color:black;'><span style='color:black;border: 1px solid red'>e</span>ea</span></td><td><span style='color:black;'>ee<span style='color:black;border: 1px solid red'>a</span></span></td><td><span style='color:black;'>eea</span></td><td><span style='color:black;'>eea</span></td><td><span style='color:black;'>ee<span style='color:black;border: 1px solid red'>a</span></span></td><td><span style='color:black;'>eea</span></td><td><span style='color:black;'>ee<span style='color:black;border: 1px solid red'>a</span></span></td><td><span style='color:black;'>eea</span></td><td><span style='color:black;'>eea</span></td><td><span style='color:black;'>ee<span style='color:black;border: 1px solid red'>a</span></span></td><td><span style='color:black;'>eea</span></td><td><span style='color:black;'>eea</span></td></tr><td>abca</td><td><span style='color:black;'>abca</span></td><td><span style='color:black;'>abca</span></td><td><span style='color:black;'>abca</span></td><td><span style='color:black;'>abca</span></td><td><span style='color:black;'><span style='color:black;border: 1px solid red'>abc</span>a</span></td><td><span style='color:black;'>abca</span></td><td><span style='color:black;'><span style='color:black;border: 1px solid red'>a</span>bca</span></td><td><span style='color:black;'>abca</span></td><td><span style='color:black;'>abca</span></td><td><span style='color:black;'><span style='color:black;border: 1px solid red'>a</span>bca</span></td><td><span style='color:black;'><span style='color:black;border: 1px solid red'>a</span>bca</span></td><td><span style='color:black;'><span style='color:black;border: 1px solid red'>a</span>bca</span></td><td><span style='color:black;'>abca</span></td><td><span style='color:black;'>abca</span></td><td><span style='color:black;'><span style='color:black;border: 1px solid red'>ab</span>ca</span></td><td><span style='color:black;'><span style='color:black;border: 1px solid red'>ab</span>ca</span></td><td><span style='color:black;'>abca</span></td></tr><td>aaba</td><td><span style='color:black;'><span style='color:black;border: 1px solid red'>aa</span>ba</span></td><td><span style='color:black;'>aaba</span></td><td><span style='color:black;'>aaba</span></td><td><span style='color:black;'>aaba</span></td><td><span style='color:black;'>aaba</span></td><td><span style='color:black;'>aaba</span></td><td><span style='color:black;'><span style='color:black;border: 1px solid red'>a</span>aba</span></td><td><span style='color:black;'>aaba</span></td><td><span style='color:black;'><span style='color:black;border: 1px solid red'>aa</span>ba</span></td><td><span style='color:black;'><span style='color:black;border: 1px solid red'>aa</span>ba</span></td><td><span style='color:black;'><span style='color:black;border: 1px solid red'>a</span>aba</span></td><td><span style='color:black;'><span style='color:black;border: 1px solid red'>aa</span>ba</span></td><td><span style='color:black;'>aaba</span></td><td><span style='color:black;'>aa<span style='color:black;border: 1px solid red'>ba</span></span></td><td><span style='color:black;'><span style='color:black;border: 1px solid red'>a</span>aba</span></td><td><span style='color:black;'><span style='color:black;border: 1px solid red'>aa</span>ba</span></td><td><span style='color:black;'>aaba</span></td></tr><td>bca2aa</td><td><span style='color:black;'>bca<span style='color:black;border: 1px solid red'>2</span>aa</span></td><td><span style='color:black;'>bca2aa</span></td><td><span style='color:black;'>bca2aa</span></td><td><span style='color:black;'>bca2aa</span></td><td><span style='color:black;'>bca2aa</span></td><td><span style='color:black;'>bca<span style='color:black;border: 1px solid red'>2</span>aa</span></td><td><span style='color:black;'><span style='color:black;border: 1px solid red'>b</span>ca2aa</span></td><td><span style='color:black;'>bca2aa</span></td><td><span style='color:black;'>bca2aa</span></td><td><span style='color:black;'>bc<span style='color:black;border: 1px solid red'>a</span>2aa</span></td><td><span style='color:black;'>bca2aa</span></td><td><span style='color:black;'>bc<span style='color:black;border: 1px solid red'>a</span>2aa</span></td><td><span style='color:black;'>bca2aa</span></td><td><span style='color:black;'>bca2aa</span></td><td><span style='color:black;'>bc<span style='color:black;border: 1px solid red'>a</span>2aa</span></td><td><span style='color:black;'>bc<span style='color:black;border: 1px solid red'>a2</span>aa</span></td><td><span style='color:black;'>bca2aa</span></td></tr><td>aba aa</td><td><span style='color:black;'>aba <span style='color:black;border: 1px solid red'>aa</span></span></td><td><span style='color:black;'>aba aa</span></td><td><span style='color:black;'>aba aa</span></td><td><span style='color:black;'>aba aa</span></td><td><span style='color:black;'>aba aa</span></td><td><span style='color:black;'>aba<span style='color:black;border: 1px solid red'> </span>aa</span></td><td><span style='color:black;'><span style='color:black;border: 1px solid red'>a</span>ba aa</span></td><td><span style='color:black;'>aba aa</span></td><td><span style='color:black;'>aba <span style='color:black;border: 1px solid red'>aa</span></span></td><td><span style='color:black;'><span style='color:black;border: 1px solid red'>a</span>ba aa</span></td><td><span style='color:black;'><span style='color:black;border: 1px solid red'>a</span>ba aa</span></td><td><span style='color:black;'><span style='color:black;border: 1px solid red'>a</span>ba aa</span></td><td><span style='color:black;'>aba aa</span></td><td><span style='color:black;'>aba aa</span></td><td><span style='color:black;'><span style='color:black;border: 1px solid red'>ab</span>a aa</span></td><td><span style='color:black;'><span style='color:black;border: 1px solid red'>ab</span>a aa</span></td><td><span style='color:black;'>ab<span style='color:black;border: 1px solid red'>a </span>aa</span></td></tr></table>"
      ],
      "text/plain": [
       "<IPython.core.display.HTML object>"
      ]
     },
     "execution_count": 114,
     "metadata": {},
     "output_type": "execute_result"
    }
   ],
   "source": [
    "patterns = [\n",
    "    'aa|2',\n",
    "    'ee',\n",
    "    'ea',\n",
    "    'e{2}',\n",
    "    '^abc',\n",
    "    '[^abc]',\n",
    "    '[abc]',\n",
    "#     'a\\bee',\n",
    "    '\\Aha',\n",
    "    r'\\baa',\n",
    "    'a{1,}',\n",
    "    'a{,1}',\n",
    "    'a{1,2}',\n",
    "    'a{1, 2}',\n",
    "    'ba$',\n",
    "    'ab?',\n",
    "    'a\\w',\n",
    "    'a\\W'\n",
    "]\n",
    "strings = ['haee', 'eea', 'abca', 'aaba', 'bca2aa','aba aa']\n",
    "\n",
    "search_pattern(patterns, strings)"
   ]
  },
  {
   "cell_type": "code",
   "execution_count": 11,
   "metadata": {},
   "outputs": [
    {
     "data": {
      "text/html": [
       "<table><tr><th></th><th>o+</th><th>o{1,}</th><th>o?</th></tr><tr><tr><tr><td>oooo</td><td><span style='color:black;'><span style='color:black;border: 1px solid red'>oooo</span></span></td><td><span style='color:black;'><span style='color:black;border: 1px solid red'>oooo</span></span></td><td><span style='color:black;'><span style='color:black;border: 1px solid red'>o</span>ooo</span></td></tr><td>onlie</td><td><span style='color:black;'><span style='color:black;border: 1px solid red'>o</span>nlie</span></td><td><span style='color:black;'><span style='color:black;border: 1px solid red'>o</span>nlie</span></td><td><span style='color:black;'><span style='color:black;border: 1px solid red'>o</span>nlie</span></td></tr><td>ook</td><td><span style='color:black;'><span style='color:black;border: 1px solid red'>oo</span>k</span></td><td><span style='color:black;'><span style='color:black;border: 1px solid red'>oo</span>k</span></td><td><span style='color:black;'><span style='color:black;border: 1px solid red'>o</span>ok</span></td></tr></table>"
      ],
      "text/plain": [
       "<IPython.core.display.HTML object>"
      ]
     },
     "execution_count": 11,
     "metadata": {},
     "output_type": "execute_result"
    }
   ],
   "source": [
    "patterns = [\n",
    "    'o+',\n",
    "    'o{1,}',\n",
    "    'o?'\n",
    "]\n",
    "strings = ['oooo', 'onlie', 'ook']\n",
    "search_pattern(patterns, strings)"
   ]
  },
  {
   "cell_type": "code",
   "execution_count": 71,
   "metadata": {},
   "outputs": [
    {
     "data": {
      "text/plain": [
       "<_sre.SRE_Match object; span=(4, 5), match='2'>"
      ]
     },
     "execution_count": 71,
     "metadata": {},
     "output_type": "execute_result"
    }
   ],
   "source": [
    "re.search(\"\\d\", \"asdf2kdj5\")"
   ]
  },
  {
   "cell_type": "code",
   "execution_count": 79,
   "metadata": {},
   "outputs": [
    {
     "name": "stdout",
     "output_type": "stream",
     "text": [
      "['one', 'two', 'three', 'four', '']\n"
     ]
    }
   ],
   "source": [
    "p = re.compile(r'\\d+')\n",
    "print(p.split('one23two3three4four5'))"
   ]
  },
  {
   "cell_type": "code",
   "execution_count": 80,
   "metadata": {},
   "outputs": [
    {
     "data": {
      "text/html": [
       "<table><tr><th></th><th>\\w+(?=\\s)</th><th>\\w+\\s</th></tr><tr><td>apple juice</td><td><span style='color:black;'><span style='color:black;border: 1px solid red'>apple</span> juice</span></td><td><span style='color:black;'><span style='color:black;border: 1px solid red'>apple </span>juice</span></td></tr></table>"
      ],
      "text/plain": [
       "<IPython.core.display.HTML object>"
      ]
     },
     "execution_count": 80,
     "metadata": {},
     "output_type": "execute_result"
    }
   ],
   "source": [
    "patterns =  ['\\w+(?=\\s)', '\\w+\\s']\n",
    "strings = ['apple juice']\n",
    "\n",
    "search_pattern(patterns, strings)"
   ]
  },
  {
   "cell_type": "code",
   "execution_count": 81,
   "metadata": {},
   "outputs": [
    {
     "data": {
      "text/html": [
       "<table><tr><th></th><th>\\w+(?!\\s)</th><th>\\w+\\S</th></tr><tr><td>apple juice</td><td><span style='color:black;'><span style='color:black;border: 1px solid red'>appl</span>e juice</span></td><td><span style='color:black;'><span style='color:black;border: 1px solid red'>apple</span> juice</span></td></tr></table>"
      ],
      "text/plain": [
       "<IPython.core.display.HTML object>"
      ]
     },
     "execution_count": 81,
     "metadata": {},
     "output_type": "execute_result"
    }
   ],
   "source": [
    "patterns =  ['\\w+(?!\\s)', '\\w+\\S']\n",
    "strings = ['apple juice']\n",
    "\n",
    "search_pattern(patterns, strings)"
   ]
  },
  {
   "cell_type": "code",
   "execution_count": 99,
   "metadata": {},
   "outputs": [
    {
     "name": "stdout",
     "output_type": "stream",
     "text": [
      "[' ']\n"
     ]
    }
   ],
   "source": [
    "test_word = re.findall('\\W+(?!\\s)', 'apple juice')\n",
    "print(test_word)"
   ]
  },
  {
   "cell_type": "code",
   "execution_count": 107,
   "metadata": {},
   "outputs": [
    {
     "name": "stdout",
     "output_type": "stream",
     "text": [
      "['a', 'a', 'b', 'c']\n"
     ]
    }
   ],
   "source": [
    "test = re.findall('[abc]', 'ad abc*9d')\n",
    "print(test)"
   ]
  },
  {
   "cell_type": "code",
   "execution_count": 108,
   "metadata": {},
   "outputs": [
    {
     "name": "stdout",
     "output_type": "stream",
     "text": [
      "['d', ' ', '*', '9', 'd']\n"
     ]
    }
   ],
   "source": [
    "test = re.findall('[^abc]', 'ad abc*9d')\n",
    "print(test)"
   ]
  },
  {
   "cell_type": "code",
   "execution_count": 113,
   "metadata": {},
   "outputs": [
    {
     "name": "stdout",
     "output_type": "stream",
     "text": [
      "['abc', '9']\n"
     ]
    }
   ],
   "source": [
    "test = re.findall('(abc|9)', 'ad abc*9d')\n",
    "print(test)"
   ]
  },
  {
   "cell_type": "code",
   "execution_count": 96,
   "metadata": {},
   "outputs": [
    {
     "name": "stdout",
     "output_type": "stream",
     "text": [
      "<_sre.SRE_Match object; span=(0, 6), match='apple '>\n"
     ]
    }
   ],
   "source": [
    "test_word = re.search('\\w+\\s', 'apple juice')\n",
    "print(test_word)"
   ]
  },
  {
   "cell_type": "code",
   "execution_count": 85,
   "metadata": {},
   "outputs": [
    {
     "name": "stdout",
     "output_type": "stream",
     "text": [
      "<_sre.SRE_Match object; span=(3, 8), match='class'>\n"
     ]
    }
   ],
   "source": [
    "p = re.compile(r'\\bclass\\b')\n",
    "print(p.search('no class at all'))"
   ]
  },
  {
   "cell_type": "code",
   "execution_count": 89,
   "metadata": {},
   "outputs": [
    {
     "name": "stdout",
     "output_type": "stream",
     "text": [
      "<_sre.SRE_Match object; span=(7, 12), match='class'>\n"
     ]
    }
   ],
   "source": [
    "\n",
    "print(p.search('the de class fied algorithm'))\n"
   ]
  },
  {
   "cell_type": "code",
   "execution_count": 90,
   "metadata": {},
   "outputs": [
    {
     "name": "stdout",
     "output_type": "stream",
     "text": [
      "<_sre.SRE_Match object; span=(4, 9), match='class'>\n"
     ]
    }
   ],
   "source": [
    "print(p.search('one class is'))\n"
   ]
  },
  {
   "cell_type": "code",
   "execution_count": 91,
   "metadata": {},
   "outputs": [
    {
     "data": {
      "text/html": [
       "<table><tr><th></th><th>\bapple\b</th><th>\\bapple\\b</th></tr><tr><td>apple juice</td><td><span style='color:black;'>apple juice</span></td><td><span style='color:black;'><span style='color:black;border: 1px solid red'>apple</span> juice</span></td></tr></table>"
      ],
      "text/plain": [
       "<IPython.core.display.HTML object>"
      ]
     },
     "execution_count": 91,
     "metadata": {},
     "output_type": "execute_result"
    }
   ],
   "source": [
    "patterns =  ['\\bapple\\b', r'\\bapple\\b']  -> 注意如果使用\\b 需要加r，表达“原始字符串”，否则“\\”将代表转义字符\n",
    "strings = ['apple juice']\n",
    "\n",
    "search_pattern(patterns, strings)"
   ]
  },
  {
   "cell_type": "code",
   "execution_count": null,
   "metadata": {},
   "outputs": [],
   "source": []
  }
 ],
 "metadata": {
  "kernelspec": {
   "display_name": "Python 3",
   "language": "python",
   "name": "python3"
  },
  "language_info": {
   "codemirror_mode": {
    "name": "ipython",
    "version": 3
   },
   "file_extension": ".py",
   "mimetype": "text/x-python",
   "name": "python",
   "nbconvert_exporter": "python",
   "pygments_lexer": "ipython3",
   "version": "3.6.4"
  }
 },
 "nbformat": 4,
 "nbformat_minor": 2
}
